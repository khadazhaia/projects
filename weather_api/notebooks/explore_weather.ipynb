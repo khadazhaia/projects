{
 "cells": [
  {
   "cell_type": "markdown",
   "metadata": {},
   "source": [
    "As exploratory data analysis should entail a variety of data visualizations to determine patterns and relationships, we welcome you to perform your own EDA to determine trends.\n",
    "\n",
    "At the minimum, however, you should be generating visualizations that explore the following questions and patterns:\n",
    "\n",
    "* How have harvest outcomes changed for Minas Gerais throughout the years?  \n",
    "    * Are these harvest outcomes similar to other regions in Brazil?  \n",
    "    * Which region produces the most coffee (by sub-category) in Brazil?  \n",
    "* How has unemployment changed in the various coffee-producing regions of Brazil?  \n",
    "* How have weather outcomes changed for Minas Gerais throughout the years?  "
   ]
  },
  {
   "cell_type": "code",
   "execution_count": 311,
   "metadata": {},
   "outputs": [],
   "source": [
    "import pandas as pd\n",
    "import matplotlib.pyplot as plt\n",
    "import seaborn as sns"
   ]
  },
  {
   "cell_type": "code",
   "execution_count": 312,
   "metadata": {},
   "outputs": [
    {
     "data": {
      "text/html": [
       "<div>\n",
       "<style scoped>\n",
       "    .dataframe tbody tr th:only-of-type {\n",
       "        vertical-align: middle;\n",
       "    }\n",
       "\n",
       "    .dataframe tbody tr th {\n",
       "        vertical-align: top;\n",
       "    }\n",
       "\n",
       "    .dataframe thead th {\n",
       "        text-align: right;\n",
       "    }\n",
       "</style>\n",
       "<table border=\"1\" class=\"dataframe\">\n",
       "  <thead>\n",
       "    <tr style=\"text-align: right;\">\n",
       "      <th></th>\n",
       "      <th>year</th>\n",
       "      <th>subdivision</th>\n",
       "      <th>million_60kgs_bag</th>\n",
       "      <th>nonbear_mill_trees</th>\n",
       "      <th>bear_mill_trees</th>\n",
       "      <th>avg_unemp_perc</th>\n",
       "    </tr>\n",
       "  </thead>\n",
       "  <tbody>\n",
       "    <tr>\n",
       "      <th>0</th>\n",
       "      <td>2002</td>\n",
       "      <td>Minas Gerais</td>\n",
       "      <td>16.2</td>\n",
       "      <td>1500.0</td>\n",
       "      <td>4465.0</td>\n",
       "      <td>NaN</td>\n",
       "    </tr>\n",
       "    <tr>\n",
       "      <th>1</th>\n",
       "      <td>2002</td>\n",
       "      <td>Espirito Santo</td>\n",
       "      <td>2.2</td>\n",
       "      <td>1500.0</td>\n",
       "      <td>4465.0</td>\n",
       "      <td>NaN</td>\n",
       "    </tr>\n",
       "    <tr>\n",
       "      <th>2</th>\n",
       "      <td>2002</td>\n",
       "      <td>Espirito Santo</td>\n",
       "      <td>7.5</td>\n",
       "      <td>1500.0</td>\n",
       "      <td>4465.0</td>\n",
       "      <td>NaN</td>\n",
       "    </tr>\n",
       "    <tr>\n",
       "      <th>3</th>\n",
       "      <td>2002</td>\n",
       "      <td>Sao Paulo</td>\n",
       "      <td>3.2</td>\n",
       "      <td>1500.0</td>\n",
       "      <td>4465.0</td>\n",
       "      <td>NaN</td>\n",
       "    </tr>\n",
       "    <tr>\n",
       "      <th>4</th>\n",
       "      <td>2002</td>\n",
       "      <td>Parana</td>\n",
       "      <td>0.5</td>\n",
       "      <td>1500.0</td>\n",
       "      <td>4465.0</td>\n",
       "      <td>6.95</td>\n",
       "    </tr>\n",
       "    <tr>\n",
       "      <th>...</th>\n",
       "      <td>...</td>\n",
       "      <td>...</td>\n",
       "      <td>...</td>\n",
       "      <td>...</td>\n",
       "      <td>...</td>\n",
       "      <td>...</td>\n",
       "    </tr>\n",
       "    <tr>\n",
       "      <th>110</th>\n",
       "      <td>2023</td>\n",
       "      <td>Minas Gerais</td>\n",
       "      <td>28.5</td>\n",
       "      <td>1510.0</td>\n",
       "      <td>6100.0</td>\n",
       "      <td>NaN</td>\n",
       "    </tr>\n",
       "    <tr>\n",
       "      <th>111</th>\n",
       "      <td>2023</td>\n",
       "      <td>Espirito Santo</td>\n",
       "      <td>4.4</td>\n",
       "      <td>1510.0</td>\n",
       "      <td>6100.0</td>\n",
       "      <td>NaN</td>\n",
       "    </tr>\n",
       "    <tr>\n",
       "      <th>112</th>\n",
       "      <td>2023</td>\n",
       "      <td>Espirito Santo</td>\n",
       "      <td>16.6</td>\n",
       "      <td>1510.0</td>\n",
       "      <td>6100.0</td>\n",
       "      <td>NaN</td>\n",
       "    </tr>\n",
       "    <tr>\n",
       "      <th>113</th>\n",
       "      <td>2023</td>\n",
       "      <td>Sao Paulo</td>\n",
       "      <td>5.1</td>\n",
       "      <td>1510.0</td>\n",
       "      <td>6100.0</td>\n",
       "      <td>NaN</td>\n",
       "    </tr>\n",
       "    <tr>\n",
       "      <th>114</th>\n",
       "      <td>2023</td>\n",
       "      <td>Parana</td>\n",
       "      <td>0.8</td>\n",
       "      <td>1510.0</td>\n",
       "      <td>6100.0</td>\n",
       "      <td>NaN</td>\n",
       "    </tr>\n",
       "  </tbody>\n",
       "</table>\n",
       "<p>115 rows × 6 columns</p>\n",
       "</div>"
      ],
      "text/plain": [
       "     year     subdivision  million_60kgs_bag  nonbear_mill_trees  \\\n",
       "0    2002    Minas Gerais               16.2              1500.0   \n",
       "1    2002  Espirito Santo                2.2              1500.0   \n",
       "2    2002  Espirito Santo                7.5              1500.0   \n",
       "3    2002       Sao Paulo                3.2              1500.0   \n",
       "4    2002          Parana                0.5              1500.0   \n",
       "..    ...             ...                ...                 ...   \n",
       "110  2023    Minas Gerais               28.5              1510.0   \n",
       "111  2023  Espirito Santo                4.4              1510.0   \n",
       "112  2023  Espirito Santo               16.6              1510.0   \n",
       "113  2023       Sao Paulo                5.1              1510.0   \n",
       "114  2023          Parana                0.8              1510.0   \n",
       "\n",
       "     bear_mill_trees  avg_unemp_perc  \n",
       "0             4465.0             NaN  \n",
       "1             4465.0             NaN  \n",
       "2             4465.0             NaN  \n",
       "3             4465.0             NaN  \n",
       "4             4465.0            6.95  \n",
       "..               ...             ...  \n",
       "110           6100.0             NaN  \n",
       "111           6100.0             NaN  \n",
       "112           6100.0             NaN  \n",
       "113           6100.0             NaN  \n",
       "114           6100.0             NaN  \n",
       "\n",
       "[115 rows x 6 columns]"
      ]
     },
     "execution_count": 312,
     "metadata": {},
     "output_type": "execute_result"
    }
   ],
   "source": [
    "br_df = pd.read_csv(\"/Users/sa17/Desktop/projects/projects/weather_api/data/csv/br_final.csv\")\n",
    "\n",
    "br_df = pd.DataFrame(br_df)[[\"year\",\"subdivision\", \"million_60kgs_bag\", \"nonbear_mill_trees\", \"bear_mill_trees\",\"avg_unemp_perc\"]]\n",
    "\n",
    "br_df"
   ]
  },
  {
   "cell_type": "markdown",
   "metadata": {},
   "source": [
    "How have harvest outcomes changed for Minas Gerais throughout the years? "
   ]
  },
  {
   "cell_type": "code",
   "execution_count": 313,
   "metadata": {},
   "outputs": [
    {
     "data": {
      "text/html": [
       "<div>\n",
       "<style scoped>\n",
       "    .dataframe tbody tr th:only-of-type {\n",
       "        vertical-align: middle;\n",
       "    }\n",
       "\n",
       "    .dataframe tbody tr th {\n",
       "        vertical-align: top;\n",
       "    }\n",
       "\n",
       "    .dataframe thead th {\n",
       "        text-align: right;\n",
       "    }\n",
       "</style>\n",
       "<table border=\"1\" class=\"dataframe\">\n",
       "  <thead>\n",
       "    <tr style=\"text-align: right;\">\n",
       "      <th></th>\n",
       "      <th>year</th>\n",
       "      <th>subdivision</th>\n",
       "      <th>million_60kgs_bag</th>\n",
       "      <th>bear_mill_trees</th>\n",
       "    </tr>\n",
       "  </thead>\n",
       "  <tbody>\n",
       "    <tr>\n",
       "      <th>0</th>\n",
       "      <td>2002</td>\n",
       "      <td>Minas Gerais</td>\n",
       "      <td>16.20</td>\n",
       "      <td>4465.0</td>\n",
       "    </tr>\n",
       "    <tr>\n",
       "      <th>5</th>\n",
       "      <td>2003</td>\n",
       "      <td>Minas Gerais</td>\n",
       "      <td>26.70</td>\n",
       "      <td>5265.0</td>\n",
       "    </tr>\n",
       "    <tr>\n",
       "      <th>10</th>\n",
       "      <td>2004</td>\n",
       "      <td>Minas Gerais</td>\n",
       "      <td>14.40</td>\n",
       "      <td>5050.0</td>\n",
       "    </tr>\n",
       "    <tr>\n",
       "      <th>15</th>\n",
       "      <td>2005</td>\n",
       "      <td>Minas Gerais</td>\n",
       "      <td>21.40</td>\n",
       "      <td>5255.0</td>\n",
       "    </tr>\n",
       "    <tr>\n",
       "      <th>20</th>\n",
       "      <td>2006</td>\n",
       "      <td>Minas Gerais</td>\n",
       "      <td>16.30</td>\n",
       "      <td>5330.0</td>\n",
       "    </tr>\n",
       "    <tr>\n",
       "      <th>25</th>\n",
       "      <td>2007</td>\n",
       "      <td>Minas Gerais</td>\n",
       "      <td>23.70</td>\n",
       "      <td>5730.0</td>\n",
       "    </tr>\n",
       "    <tr>\n",
       "      <th>30</th>\n",
       "      <td>2008</td>\n",
       "      <td>Minas Gerais</td>\n",
       "      <td>16.85</td>\n",
       "      <td>5720.0</td>\n",
       "    </tr>\n",
       "    <tr>\n",
       "      <th>35</th>\n",
       "      <td>2009</td>\n",
       "      <td>Minas Gerais</td>\n",
       "      <td>25.55</td>\n",
       "      <td>5770.0</td>\n",
       "    </tr>\n",
       "    <tr>\n",
       "      <th>40</th>\n",
       "      <td>2010</td>\n",
       "      <td>Minas Gerais</td>\n",
       "      <td>22.10</td>\n",
       "      <td>5725.0</td>\n",
       "    </tr>\n",
       "    <tr>\n",
       "      <th>45</th>\n",
       "      <td>2011</td>\n",
       "      <td>Minas Gerais</td>\n",
       "      <td>28.50</td>\n",
       "      <td>5820.0</td>\n",
       "    </tr>\n",
       "    <tr>\n",
       "      <th>50</th>\n",
       "      <td>2012</td>\n",
       "      <td>Minas Gerais</td>\n",
       "      <td>23.50</td>\n",
       "      <td>5760.0</td>\n",
       "    </tr>\n",
       "    <tr>\n",
       "      <th>55</th>\n",
       "      <td>2013</td>\n",
       "      <td>Minas Gerais</td>\n",
       "      <td>28.50</td>\n",
       "      <td>5860.0</td>\n",
       "    </tr>\n",
       "    <tr>\n",
       "      <th>60</th>\n",
       "      <td>2014</td>\n",
       "      <td>Minas Gerais</td>\n",
       "      <td>29.40</td>\n",
       "      <td>5810.0</td>\n",
       "    </tr>\n",
       "    <tr>\n",
       "      <th>61</th>\n",
       "      <td>2014</td>\n",
       "      <td>Minas Gerais</td>\n",
       "      <td>29.40</td>\n",
       "      <td>5810.0</td>\n",
       "    </tr>\n",
       "    <tr>\n",
       "      <th>70</th>\n",
       "      <td>2015</td>\n",
       "      <td>Minas Gerais</td>\n",
       "      <td>26.00</td>\n",
       "      <td>5770.0</td>\n",
       "    </tr>\n",
       "    <tr>\n",
       "      <th>75</th>\n",
       "      <td>2016</td>\n",
       "      <td>Minas Gerais</td>\n",
       "      <td>25.30</td>\n",
       "      <td>5735.0</td>\n",
       "    </tr>\n",
       "    <tr>\n",
       "      <th>80</th>\n",
       "      <td>2017</td>\n",
       "      <td>Minas Gerais</td>\n",
       "      <td>32.50</td>\n",
       "      <td>5640.0</td>\n",
       "    </tr>\n",
       "    <tr>\n",
       "      <th>85</th>\n",
       "      <td>2018</td>\n",
       "      <td>Minas Gerais</td>\n",
       "      <td>28.30</td>\n",
       "      <td>NaN</td>\n",
       "    </tr>\n",
       "    <tr>\n",
       "      <th>90</th>\n",
       "      <td>2019</td>\n",
       "      <td>Minas Gerais</td>\n",
       "      <td>34.20</td>\n",
       "      <td>5740.0</td>\n",
       "    </tr>\n",
       "    <tr>\n",
       "      <th>95</th>\n",
       "      <td>2020</td>\n",
       "      <td>Minas Gerais</td>\n",
       "      <td>29.10</td>\n",
       "      <td>5700.0</td>\n",
       "    </tr>\n",
       "    <tr>\n",
       "      <th>100</th>\n",
       "      <td>2021</td>\n",
       "      <td>Minas Gerais</td>\n",
       "      <td>34.80</td>\n",
       "      <td>6200.0</td>\n",
       "    </tr>\n",
       "    <tr>\n",
       "      <th>105</th>\n",
       "      <td>2022</td>\n",
       "      <td>Minas Gerais</td>\n",
       "      <td>24.50</td>\n",
       "      <td>6010.0</td>\n",
       "    </tr>\n",
       "    <tr>\n",
       "      <th>110</th>\n",
       "      <td>2023</td>\n",
       "      <td>Minas Gerais</td>\n",
       "      <td>28.50</td>\n",
       "      <td>6100.0</td>\n",
       "    </tr>\n",
       "  </tbody>\n",
       "</table>\n",
       "</div>"
      ],
      "text/plain": [
       "     year   subdivision  million_60kgs_bag  bear_mill_trees\n",
       "0    2002  Minas Gerais              16.20           4465.0\n",
       "5    2003  Minas Gerais              26.70           5265.0\n",
       "10   2004  Minas Gerais              14.40           5050.0\n",
       "15   2005  Minas Gerais              21.40           5255.0\n",
       "20   2006  Minas Gerais              16.30           5330.0\n",
       "25   2007  Minas Gerais              23.70           5730.0\n",
       "30   2008  Minas Gerais              16.85           5720.0\n",
       "35   2009  Minas Gerais              25.55           5770.0\n",
       "40   2010  Minas Gerais              22.10           5725.0\n",
       "45   2011  Minas Gerais              28.50           5820.0\n",
       "50   2012  Minas Gerais              23.50           5760.0\n",
       "55   2013  Minas Gerais              28.50           5860.0\n",
       "60   2014  Minas Gerais              29.40           5810.0\n",
       "61   2014  Minas Gerais              29.40           5810.0\n",
       "70   2015  Minas Gerais              26.00           5770.0\n",
       "75   2016  Minas Gerais              25.30           5735.0\n",
       "80   2017  Minas Gerais              32.50           5640.0\n",
       "85   2018  Minas Gerais              28.30              NaN\n",
       "90   2019  Minas Gerais              34.20           5740.0\n",
       "95   2020  Minas Gerais              29.10           5700.0\n",
       "100  2021  Minas Gerais              34.80           6200.0\n",
       "105  2022  Minas Gerais              24.50           6010.0\n",
       "110  2023  Minas Gerais              28.50           6100.0"
      ]
     },
     "execution_count": 313,
     "metadata": {},
     "output_type": "execute_result"
    }
   ],
   "source": [
    "mg_df = br_df.loc[:, [\"year\", \"subdivision\", \"million_60kgs_bag\", \"bear_mill_trees\"]]\n",
    "\n",
    "mg_df = mg_df[mg_df[\"subdivision\"] == \"Minas Gerais\"]\n",
    "\n",
    "mg_df"
   ]
  },
  {
   "cell_type": "code",
   "execution_count": 314,
   "metadata": {},
   "outputs": [
    {
     "data": {
      "image/png": "[encoded data removed]",
      "text/plain": [
       "<Figure size 640x480 with 1 Axes>"
      ]
     },
     "metadata": {},
     "output_type": "display_data"
    }
   ],
   "source": [
    "plt.plot(mg_df[\"year\"], mg_df[\"million_60kgs_bag\"], marker=\"o\")\n",
    "plt.xlabel(\"year\")\n",
    "plt.ylabel(\"million_60kgs_bag\")\n",
    "plt.show()\n",
    "plt.close()"
   ]
  },
  {
   "cell_type": "markdown",
   "metadata": {},
   "source": [
    "Throughout the years, there is a noticeable upward trend in Minas Gerais harvest outcomes. This suggests that harvests in Minas Gerais have become larger over time, with some fluctuations. There was a huge decline around 2004 and 2022 and high peaks in 2003, 2011, 2017 & 2021"
   ]
  },
  {
   "cell_type": "code",
   "execution_count": 315,
   "metadata": {},
   "outputs": [
    {
     "data": {
      "text/plain": [
       "<Axes: xlabel='bear_mill_trees', ylabel='million_60kgs_bag'>"
      ]
     },
     "execution_count": 315,
     "metadata": {},
     "output_type": "execute_result"
    },
    {
     "data": {
      "image/png": "[encoded data removed]",
      "text/plain": [
       "<Figure size 640x480 with 1 Axes>"
      ]
     },
     "metadata": {},
     "output_type": "display_data"
    }
   ],
   "source": [
    "sns.scatterplot(data=mg_df, x=\"bear_mill_trees\", y=\"million_60kgs_bag\")"
   ]
  },
  {
   "cell_type": "markdown",
   "metadata": {},
   "source": [
    "Additionally, there is a visible trend where there's an increase in the number of bearing trees which corresponds to the higher harvest outcomes. This could be potentially why there is an higher harvest outcome throughout the years."
   ]
  },
  {
   "cell_type": "markdown",
   "metadata": {},
   "source": [
    " Are these harvest outcomes similar to other regions in Brazil? \n",
    " \n",
    " Which region produces the most coffee (by sub-category) in Brazil?  "
   ]
  },
  {
   "cell_type": "code",
   "execution_count": 316,
   "metadata": {},
   "outputs": [
    {
     "data": {
      "text/plain": [
       "<Axes: xlabel='subdivision', ylabel='million_60kgs_bag'>"
      ]
     },
     "execution_count": 316,
     "metadata": {},
     "output_type": "execute_result"
    },
    {
     "data": {
      "image/png": "[encoded data removed]",
      "text/plain": [
       "<Figure size 640x480 with 1 Axes>"
      ]
     },
     "metadata": {},
     "output_type": "display_data"
    }
   ],
   "source": [
    "sns.boxplot(data=br_df, x=\"subdivision\", y=\"million_60kgs_bag\")"
   ]
  },
  {
   "cell_type": "markdown",
   "metadata": {},
   "source": [
    "Minas Gerais harvest outcomes are not similar to other regions in Brazil. They had a way better harvest outcome compared to the other regions. Additonally, their harvest numbers is way higher than the rest by more than 10 million. \n",
    "\n",
    "Based off this, since Minas Gerais produced the most harvest in Brazil its safe to say they also produce the most coffee as well."
   ]
  },
  {
   "cell_type": "code",
   "execution_count": 317,
   "metadata": {},
   "outputs": [
    {
     "data": {
      "text/plain": [
       "<Axes: xlabel='subdivision', ylabel='bear_mill_trees'>"
      ]
     },
     "execution_count": 317,
     "metadata": {},
     "output_type": "execute_result"
    },
    {
     "data": {
      "image/png": "[encoded data removed]",
      "text/plain": [
       "<Figure size 640x480 with 1 Axes>"
      ]
     },
     "metadata": {},
     "output_type": "display_data"
    }
   ],
   "source": [
    "sns.boxplot(data=br_df, x=\"subdivision\", y=\"bear_mill_trees\")"
   ]
  },
  {
   "cell_type": "markdown",
   "metadata": {},
   "source": [
    "Also, Minas Gerais having a better harvest than the other regions despite they all having the same amount of bearing trees could be due to them having better weather than the other regions. Better weather makes it easier for them to go out and actually harvest the trees and from that harvest produce coffee."
   ]
  },
  {
   "cell_type": "markdown",
   "metadata": {},
   "source": [
    "How has unemployment changed in the various coffee-producing regions of Brazil? "
   ]
  },
  {
   "cell_type": "code",
   "execution_count": 318,
   "metadata": {},
   "outputs": [
    {
     "data": {
      "text/html": [
       "<div>\n",
       "<style scoped>\n",
       "    .dataframe tbody tr th:only-of-type {\n",
       "        vertical-align: middle;\n",
       "    }\n",
       "\n",
       "    .dataframe tbody tr th {\n",
       "        vertical-align: top;\n",
       "    }\n",
       "\n",
       "    .dataframe thead th {\n",
       "        text-align: right;\n",
       "    }\n",
       "</style>\n",
       "<table border=\"1\" class=\"dataframe\">\n",
       "  <thead>\n",
       "    <tr style=\"text-align: right;\">\n",
       "      <th></th>\n",
       "      <th>year</th>\n",
       "      <th>subdivision</th>\n",
       "      <th>avg_unemp_perc</th>\n",
       "    </tr>\n",
       "  </thead>\n",
       "  <tbody>\n",
       "    <tr>\n",
       "      <th>4</th>\n",
       "      <td>2002</td>\n",
       "      <td>Parana</td>\n",
       "      <td>6.950</td>\n",
       "    </tr>\n",
       "    <tr>\n",
       "      <th>9</th>\n",
       "      <td>2003</td>\n",
       "      <td>Parana</td>\n",
       "      <td>7.160</td>\n",
       "    </tr>\n",
       "    <tr>\n",
       "      <th>14</th>\n",
       "      <td>2004</td>\n",
       "      <td>Parana</td>\n",
       "      <td>6.150</td>\n",
       "    </tr>\n",
       "    <tr>\n",
       "      <th>19</th>\n",
       "      <td>2005</td>\n",
       "      <td>Parana</td>\n",
       "      <td>6.710</td>\n",
       "    </tr>\n",
       "    <tr>\n",
       "      <th>24</th>\n",
       "      <td>2006</td>\n",
       "      <td>Parana</td>\n",
       "      <td>6.530</td>\n",
       "    </tr>\n",
       "    <tr>\n",
       "      <th>...</th>\n",
       "      <td>...</td>\n",
       "      <td>...</td>\n",
       "      <td>...</td>\n",
       "    </tr>\n",
       "    <tr>\n",
       "      <th>105</th>\n",
       "      <td>2022</td>\n",
       "      <td>Minas Gerais</td>\n",
       "      <td>7.150</td>\n",
       "    </tr>\n",
       "    <tr>\n",
       "      <th>106</th>\n",
       "      <td>2022</td>\n",
       "      <td>Espirito Santo</td>\n",
       "      <td>7.925</td>\n",
       "    </tr>\n",
       "    <tr>\n",
       "      <th>107</th>\n",
       "      <td>2022</td>\n",
       "      <td>Espirito Santo</td>\n",
       "      <td>7.925</td>\n",
       "    </tr>\n",
       "    <tr>\n",
       "      <th>108</th>\n",
       "      <td>2022</td>\n",
       "      <td>Sao Paulo</td>\n",
       "      <td>9.075</td>\n",
       "    </tr>\n",
       "    <tr>\n",
       "      <th>109</th>\n",
       "      <td>2022</td>\n",
       "      <td>Parana</td>\n",
       "      <td>5.825</td>\n",
       "    </tr>\n",
       "  </tbody>\n",
       "</table>\n",
       "<p>67 rows × 3 columns</p>\n",
       "</div>"
      ],
      "text/plain": [
       "     year     subdivision  avg_unemp_perc\n",
       "4    2002          Parana           6.950\n",
       "9    2003          Parana           7.160\n",
       "14   2004          Parana           6.150\n",
       "19   2005          Parana           6.710\n",
       "24   2006          Parana           6.530\n",
       "..    ...             ...             ...\n",
       "105  2022    Minas Gerais           7.150\n",
       "106  2022  Espirito Santo           7.925\n",
       "107  2022  Espirito Santo           7.925\n",
       "108  2022       Sao Paulo           9.075\n",
       "109  2022          Parana           5.825\n",
       "\n",
       "[67 rows x 3 columns]"
      ]
     },
     "execution_count": 318,
     "metadata": {},
     "output_type": "execute_result"
    }
   ],
   "source": [
    "unem_df = br_df.loc[:, [\"year\", \"subdivision\", \"avg_unemp_perc\"]]\n",
    " \n",
    "unem_df.dropna()"
   ]
  },
  {
   "cell_type": "code",
   "execution_count": 319,
   "metadata": {},
   "outputs": [
    {
     "data": {
      "text/plain": [
       "subdivision\n",
       "Espirito Santo     9.585417\n",
       "Minas Gerais       9.310417\n",
       "Parana             6.640789\n",
       "Sao Paulo         10.591667\n",
       "Name: avg_unemp_perc, dtype: float64"
      ]
     },
     "execution_count": 319,
     "metadata": {},
     "output_type": "execute_result"
    }
   ],
   "source": [
    "unem_df.groupby(\"subdivision\")[\"avg_unemp_perc\"].mean()"
   ]
  },
  {
   "cell_type": "markdown",
   "metadata": {},
   "source": [
    "How have weather outcomes changed for Minas Gerais throughout the years?  "
   ]
  },
  {
   "cell_type": "code",
   "execution_count": 320,
   "metadata": {},
   "outputs": [
    {
     "data": {
      "text/html": [
       "<div>\n",
       "<style scoped>\n",
       "    .dataframe tbody tr th:only-of-type {\n",
       "        vertical-align: middle;\n",
       "    }\n",
       "\n",
       "    .dataframe tbody tr th {\n",
       "        vertical-align: top;\n",
       "    }\n",
       "\n",
       "    .dataframe thead th {\n",
       "        text-align: right;\n",
       "    }\n",
       "</style>\n",
       "<table border=\"1\" class=\"dataframe\">\n",
       "  <thead>\n",
       "    <tr style=\"text-align: right;\">\n",
       "      <th></th>\n",
       "      <th>year</th>\n",
       "      <th>subdivision</th>\n",
       "      <th>million_60kgs_bag</th>\n",
       "      <th>nonbear_mill_trees</th>\n",
       "      <th>bear_mill_trees</th>\n",
       "      <th>avg_unemp_perc</th>\n",
       "      <th>temperature</th>\n",
       "      <th>relative humidity</th>\n",
       "      <th>precipitation</th>\n",
       "      <th>surface pressure</th>\n",
       "    </tr>\n",
       "  </thead>\n",
       "  <tbody>\n",
       "    <tr>\n",
       "      <th>0</th>\n",
       "      <td>2022</td>\n",
       "      <td>Minas Gerais</td>\n",
       "      <td>24.5</td>\n",
       "      <td>1500.0</td>\n",
       "      <td>6010.0</td>\n",
       "      <td>7.15</td>\n",
       "      <td>18.6</td>\n",
       "      <td>78.0</td>\n",
       "      <td>0.0</td>\n",
       "      <td>911.4</td>\n",
       "    </tr>\n",
       "    <tr>\n",
       "      <th>1</th>\n",
       "      <td>2023</td>\n",
       "      <td>Minas Gerais</td>\n",
       "      <td>28.5</td>\n",
       "      <td>1510.0</td>\n",
       "      <td>6100.0</td>\n",
       "      <td>NaN</td>\n",
       "      <td>20.7</td>\n",
       "      <td>78.0</td>\n",
       "      <td>0.0</td>\n",
       "      <td>913.4</td>\n",
       "    </tr>\n",
       "  </tbody>\n",
       "</table>\n",
       "</div>"
      ],
      "text/plain": [
       "   year   subdivision  million_60kgs_bag  nonbear_mill_trees  bear_mill_trees  \\\n",
       "0  2022  Minas Gerais               24.5              1500.0           6010.0   \n",
       "1  2023  Minas Gerais               28.5              1510.0           6100.0   \n",
       "\n",
       "   avg_unemp_perc  temperature  relative humidity  precipitation  \\\n",
       "0            7.15         18.6               78.0            0.0   \n",
       "1             NaN         20.7               78.0            0.0   \n",
       "\n",
       "   surface pressure  \n",
       "0             911.4  \n",
       "1             913.4  "
      ]
     },
     "execution_count": 320,
     "metadata": {},
     "output_type": "execute_result"
    }
   ],
   "source": [
    "mg_df2 = pd.read_csv(\"/Users/sa17/Desktop/projects/projects/weather_api/data/csv/mg_yearly.csv\")\n",
    "\n",
    "mg_df2 "
   ]
  }
 ],
 "metadata": {
  "kernelspec": {
   "display_name": "base",
   "language": "python",
   "name": "python3"
  },
  "language_info": {
   "codemirror_mode": {
    "name": "ipython",
    "version": 3
   },
   "file_extension": ".py",
   "mimetype": "text/x-python",
   "name": "python",
   "nbconvert_exporter": "python",
   "pygments_lexer": "ipython3",
   "version": "3.12.4"
  }
 },
 "nbformat": 4,
 "nbformat_minor": 2
}

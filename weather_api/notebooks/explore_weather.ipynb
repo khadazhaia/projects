{
 "cells": [
  {
   "cell_type": "markdown",
   "metadata": {},
   "source": [
    "After creating these CSV files, you will then perform exploratory data analysis on the data file that describes historical yearly weather data and crop output. As exploratory data analysis should entail a variety of data visualizations to determine patterns and relationships, we welcome you to perform your own EDA to determine trends.\n",
    "\n",
    "At the minimum, however, you should be generating visualizations that explore the following questions and patterns:\n",
    "\n",
    "* How have harvest outcomes changed for Minas Gerais throughout the years?  \n",
    "    * Are these harvest outcomes similar to other regions in Brazil?  \n",
    "    * Which region produces the most coffee (by sub-category) in Brazil?  \n",
    "* How has unemployment changed in the various coffee-producing regions of Brazil?  \n",
    "* How have weather outcomes changed for Minas Gerais throughout the years?  \n",
    "* Does it seem that coffee harvest is dependent on weather? If so, which specific variable seems to \"coffee\" harvest. If not, which variable might appear to be correlated with harvest outcomes instead?   \n",
    "\n",
    "For each of these questions and subsequent visualizations, be sure to include a markdown block in your jupyter notebook explaining which trends you see.\n",
    "\n",
    "To form visualizations that answer these analytical questions, utilize your knowledge of appropriate visualizations for categorical and quantitative variables."
   ]
  }
 ],
 "metadata": {
  "language_info": {
   "name": "python"
  }
 },
 "nbformat": 4,
 "nbformat_minor": 2
}
